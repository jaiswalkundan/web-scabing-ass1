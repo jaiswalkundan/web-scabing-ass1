{
 "cells": [
  {
   "cell_type": "code",
   "execution_count": null,
   "id": "090faa39-a692-43a6-9128-e50c6d082410",
   "metadata": {},
   "outputs": [],
   "source": [
    "Q1. What is Web Scraping? Why is it Used? Give three areas where Web Scraping is used to get data."
   ]
  },
  {
   "cell_type": "markdown",
   "id": "e5930c9a-394f-4236-b012-c49c4f32ea73",
   "metadata": {},
   "source": [
    "web scraping is the process of extracting data from websites.it involves automated retrieval of information from web\n",
    "pages, typically in a structure fromat, using a program or script.\n",
    "\n",
    "1. data collection and analysis: web scraping helps gather large amounts of data from websites.\n",
    "2. Price monitoring and comparison: E-commerce businesses often use web scraping to monitor competitors'price, \n",
    "3. content Aggregation: news and content aggregators utilize web scraing to collect information from multiple sourse\n",
    "4. market Research: compaines may employ web scraping to gather data on consumer opinions,reviews and market trends from various websites."
   ]
  },
  {
   "cell_type": "code",
   "execution_count": null,
   "id": "757e25b0-a59f-45cf-9c5b-37f24d7c64a5",
   "metadata": {},
   "outputs": [],
   "source": [
    "Q2. What are the different methods used for Web Scraping?"
   ]
  },
  {
   "cell_type": "markdown",
   "id": "7c59bcfc-062f-444f-9da2-9ca8163ab124",
   "metadata": {},
   "source": [
    "web scraping methods include using libraries like BeautifulSoup or Srapy in python using browser automation tools like Seleninum, or employing\n",
    "APIs provided by websites. Some also use HTTP requests directly, but its crucial to respect a sites terms of Service to avoied legal issuse."
   ]
  },
  {
   "cell_type": "code",
   "execution_count": null,
   "id": "0238c080-932e-4519-b5ae-486f8fea4d68",
   "metadata": {},
   "outputs": [],
   "source": [
    "Q3. What is Beautiful Soup? Why is it used?"
   ]
  },
  {
   "cell_type": "markdown",
   "id": "a1c59992-0a6f-4d98-860c-644af1c6f55b",
   "metadata": {},
   "source": [
    "Beautifl Soup is a python library for web scraping purposes. It provides tools to pull data out of HTML and XML files\n",
    "making it easier to extract information from web pages."
   ]
  },
  {
   "cell_type": "code",
   "execution_count": null,
   "id": "71204932-81ce-4576-90d5-e375b1021544",
   "metadata": {},
   "outputs": [],
   "source": [
    "Q4. Why is flask used in this Web Scraping project?"
   ]
  },
  {
   "cell_type": "markdown",
   "id": "f3439f19-d646-40cb-a3d9-c9480d926dd2",
   "metadata": {},
   "source": [
    "1 Web Application Development \n",
    "2 API Creation\n",
    "3 Integration with python:\n",
    "4 Routing and Templating\n",
    "5 Ease of Use"
   ]
  },
  {
   "cell_type": "code",
   "execution_count": null,
   "id": "aa1f77a2-4f48-41e8-8779-9efc3ef3614b",
   "metadata": {},
   "outputs": [],
   "source": [
    "Q5. Write the names of AWS services used in this project. Also, explain the use of each service."
   ]
  },
  {
   "cell_type": "markdown",
   "id": "d1641b6a-27df-418b-be51-e0ca75853aff",
   "metadata": {},
   "source": [
    "1 Amzon Ec2(Elastic Computer cloud)\n",
    "2 Amazon s3(simple storage service)\n",
    "3 Aws lambda\n",
    "4 Amazon Rds(relational database service)\n",
    "5 Amazon Api Gateway\n",
    "6 Aws cloud "
   ]
  }
 ],
 "metadata": {
  "kernelspec": {
   "display_name": "Python 3 (ipykernel)",
   "language": "python",
   "name": "python3"
  },
  "language_info": {
   "codemirror_mode": {
    "name": "ipython",
    "version": 3
   },
   "file_extension": ".py",
   "mimetype": "text/x-python",
   "name": "python",
   "nbconvert_exporter": "python",
   "pygments_lexer": "ipython3",
   "version": "3.10.8"
  }
 },
 "nbformat": 4,
 "nbformat_minor": 5
}
